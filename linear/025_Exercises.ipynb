{
 "cells": [
  {
   "cell_type": "markdown",
   "metadata": {},
   "source": [
    "# Exercises\n",
    "\n",
    "There are three exercises in this notebook:\n",
    "\n",
    "1. Use the cross-validation method to test the linear regression with different $\\alpha$ values, at least three.\n",
    "2. Implement a SGD method that will train the Lasso regression for 10 epochs.\n",
    "3. Extend the Fisher's classifier to work with two features. Use the class as the $y$."
   ]
  },
  {
   "cell_type": "code",
   "execution_count": 2,
   "metadata": {},
   "outputs": [],
   "source": [
    "import numpy as np"
   ]
  },
  {
   "cell_type": "markdown",
   "metadata": {},
   "source": [
    "## 1. Cross-validation linear regression\n",
    "\n",
    "You need to change the variable ``alpha`` to be a list of alphas. Next do a loop and finally compare the results."
   ]
  },
  {
   "cell_type": "code",
   "execution_count": 4,
   "metadata": {},
   "outputs": [
    {
     "name": "stdout",
     "output_type": "stream",
     "text": [
      "Alpha: 0.10, MSE: 426.05, Weights: [[-101.72397081    1.16978757]]\n",
      "Alpha: 0.20, MSE: 476.27, Weights: [[-70.75142154   0.99445055]]\n",
      "Alpha: 0.30, MSE: 509.77, Weights: [[-54.23704349   0.90096184]]\n"
     ]
    }
   ],
   "source": [
    "x = np.array([188, 181, 197, 168, 167, 187, 178, 194, 140, 176, 168, 192, 173, 142, 176]).reshape(-1, 1).reshape(15,1)\n",
    "y = np.array([141, 106, 149, 59, 79, 136, 65, 136, 52, 87, 115, 140, 82, 69, 121]).reshape(-1, 1).reshape(15,1)\n",
    "\n",
    "x = np.asmatrix(np.c_[np.ones((15,1)),x])\n",
    "\n",
    "I = np.identity(2)\n",
    "alphas = [0.1, 0.2, 0.3] # change here\n",
    "\n",
    "# add 1-3 line of code here\n",
    "for alpha in alphas:\n",
    "    w = np.linalg.inv(x.T*x + alpha * I)*x.T*y\n",
    "    w=w.ravel()\n",
    "\n",
    "# add 1-3 lines to compare the results\n",
    "    y_pred = np.array(x * w.reshape(-1,1))\n",
    "    mse = np.mean((y - y_pred) ** 2)\n",
    "    print(f\"Alpha: {alpha:.2f}, MSE: {mse:.2f}, Weights: {w}\")\n"
   ]
  },
  {
   "cell_type": "markdown",
   "metadata": {},
   "source": [
    "## 2. Implement based on the Ridge regression example, the Lasso regression.\n",
    "\n",
    "Please implement the SGD method and compare the results with the sklearn Lasso regression results. "
   ]
  },
  {
   "cell_type": "code",
   "execution_count": 31,
   "metadata": {},
   "outputs": [],
   "source": [
    "import matplotlib.pyplot as plt\n",
    "from sklearn.linear_model import Lasso\n",
    "from sklearn.preprocessing import StandardScaler\n",
    "\n",
    "def sgd(x, y, alpha=0.1, learning_rate=0.01, epochs=10):\n",
    "    x = np.asarray(x)\n",
    "    y = np.asarray(y)\n",
    "    n_features = x.shape[1]\n",
    "    w = np.zeros(n_features)\n",
    "    n_samples = x.shape[0]\n",
    "    \n",
    "    for epoch in range(epochs):\n",
    "        indices = np.random.permutation(n_samples)\n",
    "        x_shuffled = x[indices]\n",
    "        y_shuffled = y[indices]\n",
    "        \n",
    "        for i in range(n_samples):\n",
    "            y_pred = np.dot(x_shuffled[i], w)\n",
    "            mse_grad = -2 * x_shuffled[i] * (y_shuffled[i] - y_pred)\n",
    "            \n",
    "            l1_grad = np.zeros_like(w)\n",
    "            for j in range(n_features):\n",
    "                if w[j] > 0:\n",
    "                    l1_grad[j] = 1\n",
    "                elif w[j] < 0:\n",
    "                    l1_grad[j] = -1\n",
    "                else:\n",
    "                    l1_grad[j] = np.random.choice([-1, 1])\n",
    "            \n",
    "            grad = mse_grad + alpha * l1_grad\n",
    "            w = w - learning_rate * grad\n",
    "            \n",
    "    return w"
   ]
  },
  {
   "cell_type": "code",
   "execution_count": 34,
   "metadata": {},
   "outputs": [
    {
     "name": "stdout",
     "output_type": "stream",
     "text": [
      "\n",
      "MSE Comparison:\n",
      "SGD Lasso MSE: 12184.22\n",
      "Sklearn Lasso MSE: 12253.79\n"
     ]
    }
   ],
   "source": [
    "x = np.array([188, 181, 197, 168, 167, 187, 178, 194, 140, 176, 168, 192, 173, 142, 176]).reshape(-1, 1).reshape(15,1)\n",
    "y = np.array([141, 106, 149, 59, 79, 136, 65, 136, 52, 87, 115, 140, 82, 69, 121]).reshape(-1, 1).reshape(15,1)\n",
    "\n",
    "x = np.asmatrix(np.c_[np.ones((15,1)),x])\n",
    "\n",
    "I = np.identity(2)\n",
    "alpha = 0.1 \n",
    "\n",
    "x = np.asarray(x)\n",
    "x_mean = np.mean(x, axis=0)\n",
    "x_std = np.std(x, axis=0)\n",
    "x_std[x_std == 0] = 1\n",
    "x_scaled = (x - x_mean) / x_std\n",
    "\n",
    "w = sgd(x_scaled, y, alpha=alpha)\n",
    "\n",
    "lasso_sk = Lasso(alpha=alpha, fit_intercept=False)\n",
    "lasso_sk.fit(x_scaled, y)\n",
    "\n",
    "y_pred_sgd = np.dot(x_scaled, w)\n",
    "y_pred_sk = lasso_sk.predict(x_scaled)\n",
    "\n",
    "mse_sgd = np.mean((y - y_pred_sgd) ** 2)\n",
    "mse_sk = np.mean((y - y_pred_sk) ** 2)\n",
    "\n",
    "print(\"\\nMSE Comparison:\")\n",
    "print(f\"SGD Lasso MSE: {mse_sgd:.2f}\")\n",
    "print(f\"Sklearn Lasso MSE: {mse_sk:.2f}\")\n",
    "\n",
    "\n",
    "\n"
   ]
  },
  {
   "cell_type": "markdown",
   "metadata": {},
   "source": [
    "## 3. Extend the Fisher's classifier\n",
    "\n",
    "Please extend the targets of the ``iris_data`` variable and use it as the $y$."
   ]
  },
  {
   "cell_type": "code",
   "execution_count": 36,
   "metadata": {},
   "outputs": [],
   "source": [
    "import pandas as pd\n",
    "import numpy as np\n",
    "import matplotlib.pyplot as plt\n",
    "from sklearn.datasets import load_iris\n",
    "\n",
    "iris_data = load_iris()\n",
    "iris_df = pd.DataFrame(iris_data.data,columns=iris_data.feature_names)\n",
    "iris_df.head()\n",
    "\n",
    "x = iris_df[['sepal width (cm)', 'petal width (cm)']].values # change here\n",
    "y = iris_data.target # change here\n",
    "\n",
    "dataset_size = np.size(x, axis=0)\n",
    "mean_x = np.mean(x, axis=0)\n",
    "mean_y = np.mean(y)\n",
    "\n",
    "SS_xy = np.sum((y - mean_y).reshape(-1, 1) * (x - mean_x), axis=0)\n",
    "SS_xx = np.sum((x - mean_x) * (x - mean_x), axis=0)\n",
    "\n",
    "a = SS_xy / SS_xx\n",
    "b = mean_y - np.sum(a * mean_x)\n",
    "\n",
    "y_pred = np.sum(a * x, axis=1) + b"
   ]
  }
 ],
 "metadata": {
  "kernelspec": {
   "display_name": ".venv",
   "language": "python",
   "name": "python3"
  },
  "language_info": {
   "codemirror_mode": {
    "name": "ipython",
    "version": 3
   },
   "file_extension": ".py",
   "mimetype": "text/x-python",
   "name": "python",
   "nbconvert_exporter": "python",
   "pygments_lexer": "ipython3",
   "version": "3.12.3"
  }
 },
 "nbformat": 4,
 "nbformat_minor": 4
}
